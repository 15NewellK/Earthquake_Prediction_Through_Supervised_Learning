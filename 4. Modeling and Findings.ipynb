{
 "cells": [
  {
   "cell_type": "markdown",
   "id": "306f785e",
   "metadata": {},
   "source": [
    "# 4. Modeling and Findings"
   ]
  },
  {
   "cell_type": "markdown",
   "id": "7ecce56f",
   "metadata": {},
   "source": [
    "**Kristian Newell**\n",
    "\n",
    "**Course: BrainStation Data Science**\n",
    "\n",
    "**Previous Notebook: 3. Feature Engineering**"
   ]
  },
  {
   "cell_type": "markdown",
   "id": "76f7632d",
   "metadata": {},
   "source": [
    "Now that I have created a new `OrdinalTime` feature and `SouthAmerica` DataFrame, I am finished feature engineering and will proceed to modeling. My goal for this notebook is to create a predictive model that can help ease the burden of earthquakes. I will be performing supervised learning on the DataFrames that I have created in my past notebooks.\n",
    "\n",
    "The first step that I hope to accomplish is to create a model that can predict the time between earthquakes. There are many smaller earthquakes in my dataset, and a prediction that every day there will be a small earthquake in my eyes is not as valuable as a model that can predict larger deadlier earthquakes that may occur only every few months or years. Because of this, I will be limiting my time series to larger earthquakes specifically. \n",
    "\n",
    "After this step I plan on using the predicted time to predict a Latitude and Longitude location. When regressing on Latitude and Longitude it is important to note that although on a globe 180W and 180S are extremely close to one another, the model interprets them as opposite sides of the distribution. The way that I will be fixing this is to focus only on South America and limit my Latitude and Longitude to this region.\n",
    "\n",
    "To begin, I will be installing and loading all the necessary packages and models."
   ]
  },
  {
   "cell_type": "markdown",
   "id": "9d5dc983",
   "metadata": {},
   "source": [
    "The following line is a packages that is not included in the base python library that I will be installing to use in modeling in this notebook."
   ]
  },
  {
   "cell_type": "code",
   "execution_count": 5,
   "id": "550191cb",
   "metadata": {},
   "outputs": [
    {
     "name": "stdout",
     "output_type": "stream",
     "text": [
      "Collecting package metadata (current_repodata.json): ...working... done\n",
      "Note: you may need to restart the kernel to use updated packages.\n",
      "\n",
      "Solving environment: ...working... done\n",
      "\n",
      "# All requested packages already installed.\n",
      "\n"
     ]
    }
   ],
   "source": [
    "conda install lightgbm"
   ]
  },
  {
   "cell_type": "code",
   "execution_count": 71,
   "id": "ddb6cf54",
   "metadata": {},
   "outputs": [],
   "source": [
    "# The standard toolset\n",
    "import pandas as pd\n",
    "import numpy as np\n",
    "import matplotlib.pyplot as plt\n",
    "import plotly.express as px\n",
    "import seaborn as sns\n",
    "\n",
    "# Date manipulation\n",
    "import datetime\n",
    "\n",
    "# Train test split\n",
    "from sklearn.model_selection import train_test_split\n",
    "\n",
    "# For regressions that only allow one output\n",
    "from sklearn.multioutput import MultiOutputRegressor\n",
    "\n",
    "# Grid Search\n",
    "from sklearn.model_selection import GridSearchCV\n",
    "\n",
    "# Scoring\n",
    "from sklearn import metrics\n",
    "\n",
    "# For checking residuals\n",
    "import statsmodels.api as sm\n",
    "\n",
    "# For checking if time series is stationary\n",
    "from statsmodels.tsa.vector_ar.vecm import coint_johansen\n",
    "\n",
    "# Modeling\n",
    "from sklearn import ensemble\n",
    "from sklearn.linear_model import LinearRegression, LogisticRegression\n",
    "from sklearn.neighbors import KNeighborsRegressor\n",
    "from sklearn.ensemble import RandomForestRegressor, GradientBoostingRegressor\n",
    "from lightgbm import LGBMRegressor\n",
    "from xgboost.sklearn import XGBRegressor"
   ]
  },
  {
   "cell_type": "markdown",
   "id": "c058ea46",
   "metadata": {},
   "source": [
    "I am now going to read in my several datasets from the previous notebooks."
   ]
  },
  {
   "cell_type": "markdown",
   "id": "3d76a7fa",
   "metadata": {},
   "source": [
    "## Reading and Checking Data"
   ]
  },
  {
   "cell_type": "code",
   "execution_count": 7,
   "id": "60db7a58",
   "metadata": {},
   "outputs": [],
   "source": [
    "# Setting working directory\n",
    "os.chdir('C:/Users/Owner/Brainstation/Capstone')\n",
    "\n",
    "# Reading in the whole dataset\n",
    "earthquake_df=pd.read_csv('cleaned_df.csv')\n",
    "\n",
    "# Reading in the South American data\n",
    "SouthAmerica_df=pd.read_csv('SouthAmerica_df.csv')\n",
    "\n",
    "# Reading in the large earthquake data\n",
    "big_earthquake_df=pd.read_csv('big_earthquake_df.csv')"
   ]
  },
  {
   "cell_type": "markdown",
   "id": "3e6ce104",
   "metadata": {},
   "source": [
    "I am now going to create a new DataFrame that has in it only the overlap between the `big_earthquake` and `SouthAmerica` DataFrames so that I can have only the large earthquakes in South America."
   ]
  },
  {
   "cell_type": "code",
   "execution_count": 8,
   "id": "d301226d",
   "metadata": {},
   "outputs": [],
   "source": [
    "# Using an inner join on the two datasets so that only observations included in both appear\n",
    "big_SouthAmerica_df = pd.merge(big_earthquake_df, SouthAmerica_df, how='inner')"
   ]
  },
  {
   "cell_type": "code",
   "execution_count": 9,
   "id": "009ceb79",
   "metadata": {},
   "outputs": [
    {
     "name": "stdout",
     "output_type": "stream",
     "text": [
      "big_earthquake_df observations: 738\n",
      "SouthAmerica_df observations: 1971\n",
      "big_SouthAmerica_df observations: 88\n"
     ]
    }
   ],
   "source": [
    "# Checking the amount of obserations in the new DataFrame compared to the originals\n",
    "print(f'big_earthquake_df observations: {big_earthquake_df.shape[0]}')\n",
    "print(f'SouthAmerica_df observations: {SouthAmerica_df.shape[0]}')\n",
    "print(f'big_SouthAmerica_df observations: {big_SouthAmerica_df.shape[0]}')"
   ]
  },
  {
   "cell_type": "markdown",
   "id": "21394b2f",
   "metadata": {},
   "source": [
    "The observations dropped significantly from our original two DataFrames, which we expected since the filters I am using are quite restrictive. I am now going to check that the data is formatted correctly."
   ]
  },
  {
   "cell_type": "code",
   "execution_count": 10,
   "id": "95dc70df",
   "metadata": {},
   "outputs": [
    {
     "data": {
      "text/html": [
       "<div>\n",
       "<style scoped>\n",
       "    .dataframe tbody tr th:only-of-type {\n",
       "        vertical-align: middle;\n",
       "    }\n",
       "\n",
       "    .dataframe tbody tr th {\n",
       "        vertical-align: top;\n",
       "    }\n",
       "\n",
       "    .dataframe thead th {\n",
       "        text-align: right;\n",
       "    }\n",
       "</style>\n",
       "<table border=\"1\" class=\"dataframe\">\n",
       "  <thead>\n",
       "    <tr style=\"text-align: right;\">\n",
       "      <th></th>\n",
       "      <th>Latitude</th>\n",
       "      <th>Longitude</th>\n",
       "      <th>Magnitude</th>\n",
       "      <th>Depth</th>\n",
       "      <th>DateAndTime</th>\n",
       "    </tr>\n",
       "  </thead>\n",
       "  <tbody>\n",
       "    <tr>\n",
       "      <th>0</th>\n",
       "      <td>-25.6330</td>\n",
       "      <td>-70.6790</td>\n",
       "      <td>7.0</td>\n",
       "      <td>35.00</td>\n",
       "      <td>1965-02-23 22:11:47</td>\n",
       "    </tr>\n",
       "    <tr>\n",
       "      <th>1</th>\n",
       "      <td>-32.5220</td>\n",
       "      <td>-71.2330</td>\n",
       "      <td>7.4</td>\n",
       "      <td>70.00</td>\n",
       "      <td>1965-03-28 16:33:16</td>\n",
       "    </tr>\n",
       "    <tr>\n",
       "      <th>2</th>\n",
       "      <td>-10.6650</td>\n",
       "      <td>-78.2280</td>\n",
       "      <td>8.1</td>\n",
       "      <td>40.00</td>\n",
       "      <td>1966-10-17 21:42:00</td>\n",
       "    </tr>\n",
       "    <tr>\n",
       "      <th>3</th>\n",
       "      <td>-25.4940</td>\n",
       "      <td>-70.5500</td>\n",
       "      <td>7.7</td>\n",
       "      <td>25.00</td>\n",
       "      <td>1966-12-28 08:18:07</td>\n",
       "    </tr>\n",
       "    <tr>\n",
       "      <th>4</th>\n",
       "      <td>2.8490</td>\n",
       "      <td>-74.7980</td>\n",
       "      <td>7.0</td>\n",
       "      <td>55.00</td>\n",
       "      <td>1967-02-09 15:24:49</td>\n",
       "    </tr>\n",
       "    <tr>\n",
       "      <th>...</th>\n",
       "      <td>...</td>\n",
       "      <td>...</td>\n",
       "      <td>...</td>\n",
       "      <td>...</td>\n",
       "      <td>...</td>\n",
       "    </tr>\n",
       "    <tr>\n",
       "      <th>83</th>\n",
       "      <td>-31.5622</td>\n",
       "      <td>-71.4262</td>\n",
       "      <td>7.0</td>\n",
       "      <td>28.41</td>\n",
       "      <td>2015-09-16 23:18:42</td>\n",
       "    </tr>\n",
       "    <tr>\n",
       "      <th>84</th>\n",
       "      <td>-10.5372</td>\n",
       "      <td>-70.9437</td>\n",
       "      <td>7.6</td>\n",
       "      <td>606.21</td>\n",
       "      <td>2015-11-24 22:45:39</td>\n",
       "    </tr>\n",
       "    <tr>\n",
       "      <th>85</th>\n",
       "      <td>-10.0598</td>\n",
       "      <td>-71.0184</td>\n",
       "      <td>7.6</td>\n",
       "      <td>620.56</td>\n",
       "      <td>2015-11-24 22:50:54</td>\n",
       "    </tr>\n",
       "    <tr>\n",
       "      <th>86</th>\n",
       "      <td>0.3819</td>\n",
       "      <td>-79.9218</td>\n",
       "      <td>7.8</td>\n",
       "      <td>20.59</td>\n",
       "      <td>2016-04-16 23:58:37</td>\n",
       "    </tr>\n",
       "    <tr>\n",
       "      <th>87</th>\n",
       "      <td>-43.4029</td>\n",
       "      <td>-73.9395</td>\n",
       "      <td>7.6</td>\n",
       "      <td>38.00</td>\n",
       "      <td>2016-12-25 14:22:27</td>\n",
       "    </tr>\n",
       "  </tbody>\n",
       "</table>\n",
       "<p>88 rows × 5 columns</p>\n",
       "</div>"
      ],
      "text/plain": [
       "    Latitude  Longitude  Magnitude   Depth          DateAndTime\n",
       "0   -25.6330   -70.6790        7.0   35.00  1965-02-23 22:11:47\n",
       "1   -32.5220   -71.2330        7.4   70.00  1965-03-28 16:33:16\n",
       "2   -10.6650   -78.2280        8.1   40.00  1966-10-17 21:42:00\n",
       "3   -25.4940   -70.5500        7.7   25.00  1966-12-28 08:18:07\n",
       "4     2.8490   -74.7980        7.0   55.00  1967-02-09 15:24:49\n",
       "..       ...        ...        ...     ...                  ...\n",
       "83  -31.5622   -71.4262        7.0   28.41  2015-09-16 23:18:42\n",
       "84  -10.5372   -70.9437        7.6  606.21  2015-11-24 22:45:39\n",
       "85  -10.0598   -71.0184        7.6  620.56  2015-11-24 22:50:54\n",
       "86    0.3819   -79.9218        7.8   20.59  2016-04-16 23:58:37\n",
       "87  -43.4029   -73.9395        7.6   38.00  2016-12-25 14:22:27\n",
       "\n",
       "[88 rows x 5 columns]"
      ]
     },
     "execution_count": 10,
     "metadata": {},
     "output_type": "execute_result"
    }
   ],
   "source": [
    "# Inspecting the resulting DataFrame\n",
    "big_SouthAmerica_df"
   ]
  },
  {
   "cell_type": "code",
   "execution_count": 11,
   "id": "9f1ed741",
   "metadata": {},
   "outputs": [
    {
     "name": "stdout",
     "output_type": "stream",
     "text": [
      "<class 'pandas.core.frame.DataFrame'>\n",
      "Int64Index: 88 entries, 0 to 87\n",
      "Data columns (total 5 columns):\n",
      " #   Column       Non-Null Count  Dtype  \n",
      "---  ------       --------------  -----  \n",
      " 0   Latitude     88 non-null     float64\n",
      " 1   Longitude    88 non-null     float64\n",
      " 2   Magnitude    88 non-null     float64\n",
      " 3   Depth        88 non-null     float64\n",
      " 4   DateAndTime  88 non-null     object \n",
      "dtypes: float64(4), object(1)\n",
      "memory usage: 4.1+ KB\n"
     ]
    }
   ],
   "source": [
    "# Checking the columns and data types\n",
    "big_SouthAmerica_df.info()"
   ]
  },
  {
   "cell_type": "markdown",
   "id": "7127e57a",
   "metadata": {},
   "source": [
    "The `DateAndTime` column has been set to an object again, so I will be fixing that."
   ]
  },
  {
   "cell_type": "code",
   "execution_count": 12,
   "id": "fc1b9743",
   "metadata": {},
   "outputs": [],
   "source": [
    "# Recasting as datetime\n",
    "big_SouthAmerica_df['DateAndTime']=pd.to_datetime(big_SouthAmerica_df['DateAndTime'])"
   ]
  },
  {
   "cell_type": "code",
   "execution_count": 13,
   "id": "20863ff8",
   "metadata": {},
   "outputs": [
    {
     "name": "stdout",
     "output_type": "stream",
     "text": [
      "<class 'pandas.core.frame.DataFrame'>\n",
      "Int64Index: 88 entries, 0 to 87\n",
      "Data columns (total 5 columns):\n",
      " #   Column       Non-Null Count  Dtype         \n",
      "---  ------       --------------  -----         \n",
      " 0   Latitude     88 non-null     float64       \n",
      " 1   Longitude    88 non-null     float64       \n",
      " 2   Magnitude    88 non-null     float64       \n",
      " 3   Depth        88 non-null     float64       \n",
      " 4   DateAndTime  88 non-null     datetime64[ns]\n",
      "dtypes: datetime64[ns](1), float64(4)\n",
      "memory usage: 4.1 KB\n"
     ]
    }
   ],
   "source": [
    "# Checking to see that the data type has changed\n",
    "big_SouthAmerica_df.info()"
   ]
  },
  {
   "cell_type": "markdown",
   "id": "0373ea25",
   "metadata": {},
   "source": [
    "The data now looks correct with the exception of the absence of my ordinal time feature. I am now going to recreate it in this DataFrame."
   ]
  },
  {
   "cell_type": "code",
   "execution_count": 14,
   "id": "421efdfe",
   "metadata": {},
   "outputs": [],
   "source": [
    "# Making Datetime as a list of seconds so I can use it in the regression\n",
    "big_SouthAmerica_df['OrdinalTime']=big_SouthAmerica_df['DateAndTime'].apply(lambda x:x.toordinal())"
   ]
  },
  {
   "cell_type": "markdown",
   "id": "b3b3b7fe",
   "metadata": {},
   "source": [
    "The correct packages are imported and the data is formatted correctly, It is now time to begin modeling. The plan is to begin with time series to see if I am able to create an accurate predictor of time between large earthquakes in South America."
   ]
  },
  {
   "cell_type": "markdown",
   "id": "7e7e3319",
   "metadata": {},
   "source": [
    "## Modeling"
   ]
  },
  {
   "cell_type": "markdown",
   "id": "b337b948",
   "metadata": {},
   "source": [
    "### Time Series"
   ]
  },
  {
   "cell_type": "markdown",
   "id": "40e7c15c",
   "metadata": {},
   "source": [
    "The first step in time series prediction is to set the index to datetime. To ensure that this does not affect my DataFrame I am going to take a copy of it for time series analysis."
   ]
  },
  {
   "cell_type": "code",
   "execution_count": 15,
   "id": "4a9c70c4",
   "metadata": {},
   "outputs": [],
   "source": [
    "# Copying my big South America DataFrame\n",
    "time_df=big_SouthAmerica_df.copy()"
   ]
  },
  {
   "cell_type": "code",
   "execution_count": 16,
   "id": "696d3fc6",
   "metadata": {},
   "outputs": [],
   "source": [
    "# Setting datetime to my index column\n",
    "time_df.set_index('DateAndTime',inplace=True)"
   ]
  },
  {
   "cell_type": "code",
   "execution_count": 17,
   "id": "4b7a90c0",
   "metadata": {},
   "outputs": [
    {
     "data": {
      "text/html": [
       "<div>\n",
       "<style scoped>\n",
       "    .dataframe tbody tr th:only-of-type {\n",
       "        vertical-align: middle;\n",
       "    }\n",
       "\n",
       "    .dataframe tbody tr th {\n",
       "        vertical-align: top;\n",
       "    }\n",
       "\n",
       "    .dataframe thead th {\n",
       "        text-align: right;\n",
       "    }\n",
       "</style>\n",
       "<table border=\"1\" class=\"dataframe\">\n",
       "  <thead>\n",
       "    <tr style=\"text-align: right;\">\n",
       "      <th></th>\n",
       "      <th>Latitude</th>\n",
       "      <th>Longitude</th>\n",
       "      <th>Magnitude</th>\n",
       "      <th>Depth</th>\n",
       "      <th>OrdinalTime</th>\n",
       "    </tr>\n",
       "    <tr>\n",
       "      <th>DateAndTime</th>\n",
       "      <th></th>\n",
       "      <th></th>\n",
       "      <th></th>\n",
       "      <th></th>\n",
       "      <th></th>\n",
       "    </tr>\n",
       "  </thead>\n",
       "  <tbody>\n",
       "    <tr>\n",
       "      <th>1965-02-23 22:11:47</th>\n",
       "      <td>-25.633</td>\n",
       "      <td>-70.679</td>\n",
       "      <td>7.0</td>\n",
       "      <td>35.0</td>\n",
       "      <td>717390</td>\n",
       "    </tr>\n",
       "    <tr>\n",
       "      <th>1965-03-28 16:33:16</th>\n",
       "      <td>-32.522</td>\n",
       "      <td>-71.233</td>\n",
       "      <td>7.4</td>\n",
       "      <td>70.0</td>\n",
       "      <td>717423</td>\n",
       "    </tr>\n",
       "    <tr>\n",
       "      <th>1966-10-17 21:42:00</th>\n",
       "      <td>-10.665</td>\n",
       "      <td>-78.228</td>\n",
       "      <td>8.1</td>\n",
       "      <td>40.0</td>\n",
       "      <td>717991</td>\n",
       "    </tr>\n",
       "    <tr>\n",
       "      <th>1966-12-28 08:18:07</th>\n",
       "      <td>-25.494</td>\n",
       "      <td>-70.550</td>\n",
       "      <td>7.7</td>\n",
       "      <td>25.0</td>\n",
       "      <td>718063</td>\n",
       "    </tr>\n",
       "    <tr>\n",
       "      <th>1967-02-09 15:24:49</th>\n",
       "      <td>2.849</td>\n",
       "      <td>-74.798</td>\n",
       "      <td>7.0</td>\n",
       "      <td>55.0</td>\n",
       "      <td>718106</td>\n",
       "    </tr>\n",
       "    <tr>\n",
       "      <th>1967-02-15 16:11:12</th>\n",
       "      <td>-9.163</td>\n",
       "      <td>-71.274</td>\n",
       "      <td>7.0</td>\n",
       "      <td>600.4</td>\n",
       "      <td>718112</td>\n",
       "    </tr>\n",
       "    <tr>\n",
       "      <th>1967-09-03 21:07:29</th>\n",
       "      <td>-10.656</td>\n",
       "      <td>-79.674</td>\n",
       "      <td>7.0</td>\n",
       "      <td>15.0</td>\n",
       "      <td>718312</td>\n",
       "    </tr>\n",
       "    <tr>\n",
       "      <th>1967-12-21 02:25:26</th>\n",
       "      <td>-21.865</td>\n",
       "      <td>-69.939</td>\n",
       "      <td>7.3</td>\n",
       "      <td>45.0</td>\n",
       "      <td>718421</td>\n",
       "    </tr>\n",
       "    <tr>\n",
       "      <th>1970-05-31 20:23:29</th>\n",
       "      <td>-9.183</td>\n",
       "      <td>-78.737</td>\n",
       "      <td>7.9</td>\n",
       "      <td>45.0</td>\n",
       "      <td>719313</td>\n",
       "    </tr>\n",
       "    <tr>\n",
       "      <th>1970-06-14 00:00:11</th>\n",
       "      <td>-52.028</td>\n",
       "      <td>-74.070</td>\n",
       "      <td>7.0</td>\n",
       "      <td>15.0</td>\n",
       "      <td>719327</td>\n",
       "    </tr>\n",
       "  </tbody>\n",
       "</table>\n",
       "</div>"
      ],
      "text/plain": [
       "                     Latitude  Longitude  Magnitude  Depth  OrdinalTime\n",
       "DateAndTime                                                            \n",
       "1965-02-23 22:11:47   -25.633    -70.679        7.0   35.0       717390\n",
       "1965-03-28 16:33:16   -32.522    -71.233        7.4   70.0       717423\n",
       "1966-10-17 21:42:00   -10.665    -78.228        8.1   40.0       717991\n",
       "1966-12-28 08:18:07   -25.494    -70.550        7.7   25.0       718063\n",
       "1967-02-09 15:24:49     2.849    -74.798        7.0   55.0       718106\n",
       "1967-02-15 16:11:12    -9.163    -71.274        7.0  600.4       718112\n",
       "1967-09-03 21:07:29   -10.656    -79.674        7.0   15.0       718312\n",
       "1967-12-21 02:25:26   -21.865    -69.939        7.3   45.0       718421\n",
       "1970-05-31 20:23:29    -9.183    -78.737        7.9   45.0       719313\n",
       "1970-06-14 00:00:11   -52.028    -74.070        7.0   15.0       719327"
      ]
     },
     "execution_count": 17,
     "metadata": {},
     "output_type": "execute_result"
    }
   ],
   "source": [
    "# Sorting my index to get a chronological ordering of my data\n",
    "time_df.sort_index(inplace=True)\n",
    "time_df.head(10)"
   ]
  },
  {
   "cell_type": "markdown",
   "id": "ddcce7c5",
   "metadata": {},
   "source": [
    "Now that I have set datetime as my index, I am going to separate out my train(X) and test(y). I will begin by defining y as my `Latitude` and `Longitude` features indexed by time. "
   ]
  },
  {
   "cell_type": "code",
   "execution_count": 18,
   "id": "46177ab0",
   "metadata": {},
   "outputs": [
    {
     "data": {
      "text/html": [
       "<div>\n",
       "<style scoped>\n",
       "    .dataframe tbody tr th:only-of-type {\n",
       "        vertical-align: middle;\n",
       "    }\n",
       "\n",
       "    .dataframe tbody tr th {\n",
       "        vertical-align: top;\n",
       "    }\n",
       "\n",
       "    .dataframe thead th {\n",
       "        text-align: right;\n",
       "    }\n",
       "</style>\n",
       "<table border=\"1\" class=\"dataframe\">\n",
       "  <thead>\n",
       "    <tr style=\"text-align: right;\">\n",
       "      <th></th>\n",
       "      <th>Latitude</th>\n",
       "      <th>Longitude</th>\n",
       "    </tr>\n",
       "    <tr>\n",
       "      <th>date</th>\n",
       "      <th></th>\n",
       "      <th></th>\n",
       "    </tr>\n",
       "  </thead>\n",
       "  <tbody>\n",
       "    <tr>\n",
       "      <th>1965-02-23 22:11:47</th>\n",
       "      <td>-25.633</td>\n",
       "      <td>-70.679</td>\n",
       "    </tr>\n",
       "    <tr>\n",
       "      <th>1965-03-28 16:33:16</th>\n",
       "      <td>-32.522</td>\n",
       "      <td>-71.233</td>\n",
       "    </tr>\n",
       "    <tr>\n",
       "      <th>1966-10-17 21:42:00</th>\n",
       "      <td>-10.665</td>\n",
       "      <td>-78.228</td>\n",
       "    </tr>\n",
       "    <tr>\n",
       "      <th>1966-12-28 08:18:07</th>\n",
       "      <td>-25.494</td>\n",
       "      <td>-70.550</td>\n",
       "    </tr>\n",
       "    <tr>\n",
       "      <th>1967-02-09 15:24:49</th>\n",
       "      <td>2.849</td>\n",
       "      <td>-74.798</td>\n",
       "    </tr>\n",
       "  </tbody>\n",
       "</table>\n",
       "</div>"
      ],
      "text/plain": [
       "                     Latitude  Longitude\n",
       "date                                    \n",
       "1965-02-23 22:11:47   -25.633    -70.679\n",
       "1965-03-28 16:33:16   -32.522    -71.233\n",
       "1966-10-17 21:42:00   -10.665    -78.228\n",
       "1966-12-28 08:18:07   -25.494    -70.550\n",
       "1967-02-09 15:24:49     2.849    -74.798"
      ]
     },
     "execution_count": 18,
     "metadata": {},
     "output_type": "execute_result"
    }
   ],
   "source": [
    "# Creating a y matrix of just lat/long and datetime\n",
    "y=time_df[['Latitude','Longitude']]\n",
    "\n",
    "# Renaming the index as it gets wordy after the above row of code\n",
    "y.index.rename('date',inplace=True)\n",
    "y.head()"
   ]
  },
  {
   "cell_type": "markdown",
   "id": "86426df4",
   "metadata": {},
   "source": [
    "I am now going to plot my new time series y on a graph to look at its values over time."
   ]
  },
  {
   "cell_type": "code",
   "execution_count": 19,
   "id": "23e32f8f",
   "metadata": {},
   "outputs": [
    {
     "data": {
      "image/png": "[encoded data removed]",
      "text/plain": [
       "<Figure size 936x504 with 1 Axes>"
      ]
     },
     "metadata": {
      "needs_background": "light"
     },
     "output_type": "display_data"
    }
   ],
   "source": [
    "# visualizing\n",
    "ax=y.plot(figsize=(13,7))"
   ]
  },
  {
   "cell_type": "markdown",
   "id": "2f8a9127",
   "metadata": {},
   "source": [
    "I am going to create the X DataFrame by splitting my y DataFrame in two, data before January 1st 2010 and data after January 1st 2010. I have chosen this date because the graph above indicates that roughly 70-80% of my data comes before 2010, and that is roughly the train/test split that I want."
   ]
  },
  {
   "cell_type": "code",
   "execution_count": 20,
   "id": "7ada79fa",
   "metadata": {},
   "outputs": [],
   "source": [
    "# Creating my train/test split by sectioning off all observations before 2010\n",
    "X=y[y.index<='2010-01-01 00:00:00']\n",
    "y=y[y.index>'2010-01-01 00:00:00']"
   ]
  },
  {
   "cell_type": "code",
   "execution_count": 21,
   "id": "fafacfb3",
   "metadata": {},
   "outputs": [
    {
     "name": "stdout",
     "output_type": "stream",
     "text": [
      "69\n",
      "19\n"
     ]
    }
   ],
   "source": [
    "# Checking the lengths of my x and y to be sure the split worked correctly and there is a good distribution of observations between them\n",
    "print(X.shape[0])\n",
    "print(y.shape[0])"
   ]
  },
  {
   "cell_type": "markdown",
   "id": "99a1db2b",
   "metadata": {},
   "source": [
    "After splitting we can see that 69 of our 88 data points are in the X DataFrame. This is a good distribution, seeing how roughly 78% of our data belongs to the training set and 12% belongs to the test set. I am now going to plot the two time series so that I can better visualize the split."
   ]
  },
  {
   "cell_type": "code",
   "execution_count": 22,
   "id": "6ceed616",
   "metadata": {},
   "outputs": [
    {
     "data": {
      "text/plain": [
       "<function matplotlib.pyplot.show(close=None, block=None)>"
      ]
     },
     "execution_count": 22,
     "metadata": {},
     "output_type": "execute_result"
    },
    {
     "data": {
      "image/png": "[encoded data removed]",
      "text/plain": [
       "<Figure size 936x504 with 1 Axes>"
      ]
     },
     "metadata": {
      "needs_background": "light"
     },
     "output_type": "display_data"
    }
   ],
   "source": [
    "# Visualizing the split of X and y\n",
    "plt.figure(figsize=(13,7))\n",
    "plt.plot(X, label='X')\n",
    "plt.plot(y, label ='y')\n",
    "plt.legend()\n",
    "plt.show"
   ]
  },
  {
   "cell_type": "markdown",
   "id": "b6762a8b",
   "metadata": {},
   "source": [
    "My X and y variables have been separated correctly and should be now able to be used in my forecasting. Before I begin attempting to forecast with my time series I need to confirm that there is no cointegration between the variables in my time series."
   ]
  },
  {
   "cell_type": "code",
   "execution_count": 23,
   "id": "b56cab93",
   "metadata": {},
   "outputs": [
    {
     "data": {
      "text/plain": [
       "array([0.48925355, 0.43853983, 0.33814592, 0.30098277, 0.22179706])"
      ]
     },
     "execution_count": 23,
     "metadata": {},
     "output_type": "execute_result"
    }
   ],
   "source": [
    "# Checking if the time series is stationary\n",
    "johan_test_temp = time_df\n",
    "coint_johansen(johan_test_temp,-1,1).eig"
   ]
  },
  {
   "cell_type": "markdown",
   "id": "8ef69cf5",
   "metadata": {},
   "source": [
    "The Johansen cointegration test (by outputting large positive values) has determined that there is cointegration between at least two of my time series present in this DataFrame, meaning that the resulting time series forecast will be inaccurate. \n",
    "\n",
    "Due to this, I will be unable to create an accurate time series, instead I will focus on given time and location, predicting the depth and magnitude of resulting earthquakes. Although this model would only be able to predict the Magnitude and Depth of a an earthquake, this could still help countries prepare for large earthquakes if it were integrated with any seismic early warning systems."
   ]
  },
  {
   "cell_type": "markdown",
   "id": "07ac376d",
   "metadata": {},
   "source": [
    "### Predicting Magnitude and Depth Given Latitude, Longitude, and Time"
   ]
  },
  {
   "cell_type": "markdown",
   "id": "e17b4e31",
   "metadata": {},
   "source": [
    "I am going to continue on by predicting the Depth and Magnitude features of my dataset by using `Latitude`, `Longitude`, and `DateAndTime`. For all the models I test, I will be using mean squared error as the metric of score since all my data is numeric. I will continue using the DataFrame I created of large earthquakes specifically in South America, both because I think this area could benefit greatly from early warning mechanisms to protect against earthquakes as well as the fact that specifying one area removes the wrapping issue with longitude on a globe."
   ]
  },
  {
   "cell_type": "markdown",
   "id": "1423f17c",
   "metadata": {},
   "source": [
    "I will begin by separating my features(X) from my targets(y), and creating a validation and test set for X and y."
   ]
  },
  {
   "cell_type": "code",
   "execution_count": 24,
   "id": "48f82325",
   "metadata": {},
   "outputs": [],
   "source": [
    "# Setting up X and y\n",
    "X = big_SouthAmerica_df[['Latitude', 'Longitude','OrdinalTime']]\n",
    "y= big_SouthAmerica_df[['Depth','Magnitude']]\n",
    "\n",
    "# Train test splitting\n",
    "X_data, X_test, y_data, y_test = train_test_split(X, y,test_size=0.2,random_state=13)\n",
    "\n",
    "# Creating a validation set\n",
    "X_train, X_val, y_train, y_val = train_test_split(X_data, y_data,test_size=0.2,random_state=13)"
   ]
  },
  {
   "cell_type": "markdown",
   "id": "dc90d94b",
   "metadata": {},
   "source": [
    "I will begin with the most basic regression models to see how a simple models do on predicting. Ideally if a simple model is able to capture a large amount of variance in the data more complex models will not be required."
   ]
  },
  {
   "cell_type": "code",
   "execution_count": 25,
   "id": "ba0a32f8",
   "metadata": {},
   "outputs": [
    {
     "data": {
      "text/plain": [
       "0.16961925795058796"
      ]
     },
     "execution_count": 25,
     "metadata": {},
     "output_type": "execute_result"
    }
   ],
   "source": [
    "# Running Linear Regressor\n",
    "Lin_reg = LinearRegression().fit(X_train, y_train)\n",
    "Lin_reg.score(X_val, y_val)"
   ]
  },
  {
   "cell_type": "markdown",
   "id": "455cacc6",
   "metadata": {},
   "source": [
    "The scoring metric above indicates that the R squared value is 0.1696. This means that ~17% of the variance in our data is explained by a linear model. This is not a significant enough amount to be content with a model.\n",
    "\n",
    "Next I will be running a random forest regressor."
   ]
  },
  {
   "cell_type": "code",
   "execution_count": 26,
   "id": "57b26c5d",
   "metadata": {},
   "outputs": [
    {
     "data": {
      "text/plain": [
       "0.18141771546264412"
      ]
     },
     "execution_count": 26,
     "metadata": {},
     "output_type": "execute_result"
    }
   ],
   "source": [
    "# Running Random Forest Regressor, choosing somewhat arbitrary hyperparameters\n",
    "RF_reg = RandomForestRegressor(n_estimators=40,max_depth=5,min_samples_leaf=3, random_state=13)\n",
    "RF_reg.fit(X_train, y_train)\n",
    "RF_reg.score(X_val, y_val)"
   ]
  },
  {
   "cell_type": "markdown",
   "id": "1c463e7b",
   "metadata": {},
   "source": [
    "Although the score has increased to 0.18, meaning roughly 1% more variance captured in this model than the linear regressor, this is still not enough to be content with a model. \n",
    "\n",
    "Next I will be running a gradient boosting regressor."
   ]
  },
  {
   "cell_type": "code",
   "execution_count": 27,
   "id": "7ebbc3ba",
   "metadata": {},
   "outputs": [
    {
     "data": {
      "text/plain": [
       "-0.3221277666809219"
      ]
     },
     "execution_count": 27,
     "metadata": {},
     "output_type": "execute_result"
    }
   ],
   "source": [
    "# Running a Gradient Boosting Regressor\n",
    "multi_reg=MultiOutputRegressor(GradientBoostingRegressor(random_state=13,loss='quantile')).fit(X_train, y_train)\n",
    "multi_reg.score(X_val, y_val)"
   ]
  },
  {
   "cell_type": "markdown",
   "id": "33310fe4",
   "metadata": {},
   "source": [
    "This regression model is reporting a negative number, meaning it is not fit to predict on this dataset.\n",
    "\n",
    "Next I will be running another gradient-boosting regressor, the LightGBM regressor."
   ]
  },
  {
   "cell_type": "code",
   "execution_count": 28,
   "id": "194d3591",
   "metadata": {},
   "outputs": [
    {
     "data": {
      "text/plain": [
       "0.08851785103758453"
      ]
     },
     "execution_count": 28,
     "metadata": {},
     "output_type": "execute_result"
    }
   ],
   "source": [
    "# Running a LGBM Regressor\n",
    "lgbm_reg= MultiOutputRegressor(LGBMRegressor(random_state=13))\n",
    "lgbm_reg.fit(X_train,y_train)\n",
    "lgbm_reg.score(X_val,y_val)"
   ]
  },
  {
   "cell_type": "markdown",
   "id": "7374e1cc",
   "metadata": {},
   "source": [
    "This model had the lowest absolute score reported of all the models we have tested so far.\n",
    "\n",
    "Next I will be running an XGBoost regressor."
   ]
  },
  {
   "cell_type": "code",
   "execution_count": 29,
   "id": "cd2e744e",
   "metadata": {},
   "outputs": [
    {
     "data": {
      "text/plain": [
       "-0.5222406237798338"
      ]
     },
     "execution_count": 29,
     "metadata": {},
     "output_type": "execute_result"
    }
   ],
   "source": [
    "# Running a XGBoost Regressor\n",
    "xgb_reg=MultiOutputRegressor(XGBRegressor(random_state=13))\n",
    "xgb_reg.fit(X_train,y_train)\n",
    "xgb_reg.score(X_val,y_val)"
   ]
  },
  {
   "cell_type": "markdown",
   "id": "8168adde",
   "metadata": {},
   "source": [
    "This model also output a negative number meaning it did not do well predicting on our data. \n",
    "\n",
    "There were several models I tried in this step with somewhat arbitrary or default hyperparameters that resulted in poor predictions. I imagine that these models have the potential to match my data significantly better if their hyperparameters are optimized. To do this I will be creating a series of functions to gridsearch over each of these models to optimize their hyperparameters."
   ]
  },
  {
   "cell_type": "code",
   "execution_count": 39,
   "id": "b9bfb1ef",
   "metadata": {},
   "outputs": [],
   "source": [
    "# Function definition for grid searches over my 4 models: Random Forest Regressor, Gradient Boost Regressor, Light GBM Regressor, and XGB Regressor\n",
    "\n",
    "def Grid_Search_CV_RFR(X_train, y_train):\n",
    "\n",
    "        '''Outputs the best parameters and best score of a gridsearch over several RandomForestRegressor hyperparameters.'''\n",
    "\n",
    "        # Instantiating a Random Forest Regressor\n",
    "        estimator = RandomForestRegressor(random_state=13)\n",
    "\n",
    "        # Setting up the parameter grid I wish to test\n",
    "        param_grid = { \n",
    "\n",
    "            'n_estimators'      : [2,3,4,5,6,7,8,9,10,11,12,13,14,15,16,17,18,19,20,25,30,40,50,60,70,80,90,100,110,150,180,200,220,300],\n",
    "            'max_features'      : ['auto', 'sqrt', 'log2'],\n",
    "            'min_samples_split' : [2,3,4,5,6,7,8,9,10,11,12,13,14,15,16,17,18,19,20],\n",
    "            'bootstrap'         : [True, False],\n",
    "            }\n",
    "\n",
    "        # Instatiating the grid search\n",
    "        grid = GridSearchCV(estimator, param_grid, n_jobs=-1, cv=5)\n",
    "\n",
    "        # Fitting Grid search to my data\n",
    "        grid.fit(X_train, y_train)\n",
    "\n",
    "        # Returning the best parameters for my data\n",
    "        return grid.best_params_\n",
    "\n",
    "\n",
    "def Grid_Search_CV_GBR(X_train, y_train):\n",
    "\n",
    "        '''Outputs the best parameters and best score of a gridsearch over several Gradient Boost Regressor hyperparameters.'''\n",
    "\n",
    "        # Instantiating a Gradient Boost Regressor\n",
    "        estimator = MultiOutputRegressor(GradientBoostingRegressor(random_state=13,criterion='mse',subsample=0.95))\n",
    "\n",
    "        # Setting up the parameter grid I wish to test\n",
    "        param_grid = {\n",
    "             \n",
    "            'estimator__n_estimators'      : [2,3,4,5,6,7,8,9,10,11,12,13,14,15,16,17,18,19,20,25,30,40,50,60,70,80,90,100,110,150,180],\n",
    "            'estimator__learning_rate'     : [.001,.005,.01,.05,.1],\n",
    "            'estimator__min_samples_split' : [2,3,4,5,6],\n",
    "            'estimator__min_samples_leaf'  : [1,2,3,4,5,6],\n",
    "            'estimator__max_depth'         : [2,3,4,5,6],\n",
    "            }\n",
    "\n",
    "        # Instatiating the grid search\n",
    "        grid = GridSearchCV(estimator, param_grid, n_jobs=-1, cv=5)\n",
    "\n",
    "        # Fitting Grid search to my data\n",
    "        grid.fit(X_train, y_train)\n",
    "\n",
    "        # Returning the best parameters for my data\n",
    "        return grid.best_params_\n",
    "\n",
    "\n",
    "def Grid_Search_CV_LGBMR(X_train, y_train):\n",
    "\n",
    "        '''Outputs the best parameters and best score of a gridsearch over several LightGBM Regressor hyperparameters.'''\n",
    "\n",
    "        # Instantiating a LightGBM Regressor\n",
    "        estimator = MultiOutputRegressor(LGBMRegressor(random_state=13,subsample=0.95))\n",
    "\n",
    "        # Setting up the parameter grid I wish to test\n",
    "        param_grid = {\n",
    "             \n",
    "            'estimator__n_estimators'      : [2,3,4,5,6,7,8,9,10,11,12,13,14,15,16,17,18,19,20,25,30,40,50,60,70,80,90,100,110,150,180],\n",
    "            'estimator__learning_rate'     : [.001,.005,.01,.05,.1],\n",
    "            'estimator__num_leaves'        : [2,3,4,5,6,7,8,9,10,12,14,16,18,20,25,30,35,40],\n",
    "            'estimator__max_depth'         : [2,3,4,5,6],\n",
    "            }\n",
    "\n",
    "        # Instatiating the grid search\n",
    "        grid = GridSearchCV(estimator, param_grid, n_jobs=-1, cv=5)\n",
    "\n",
    "        # Fitting Grid search to my data\n",
    "        grid.fit(X_train, y_train)\n",
    "\n",
    "        # Returning the best parameters for my data\n",
    "        return grid.best_params_\n",
    "\n",
    "\n",
    "def Grid_Search_CV_XGBR(X_train, y_train):\n",
    "\n",
    "        '''Outputs the best parameters and best score of a gridsearch over several XGBoost Regressor hyperparameters.'''\n",
    "\n",
    "        # Instantiating a XGBoost Regressor\n",
    "        estimator = MultiOutputRegressor(XGBRegressor(random_state=13))\n",
    "\n",
    "        # Setting up the parameter grid I wish to test        \n",
    "        param_grid = {\n",
    "\n",
    "             \n",
    "            'estimator__n_estimators'      : [2,3,4,5,6,7,8,9,10,11,12,13,14,15,16,17,18,19,20,25,30,40,50,60,70,80,90,100,110,150,180],\n",
    "            'estimator__learning_rate'     : [.001,.005,.01,.05,.1,.5],\n",
    "            'estimator__min_samples_split' : [2,3,4,5,6],\n",
    "            'estimator__min_samples_leaf'  : [1,2,3,4,5,6],\n",
    "            'estimator__max_depth'         : [2,3,4,5,6],\n",
    "            }\n",
    "\n",
    "        # Instatiating the grid search\n",
    "        grid = GridSearchCV(estimator, param_grid, n_jobs=-1, cv=5)\n",
    "\n",
    "        # Fitting Grid search to my data\n",
    "        grid.fit(X_train, y_train)\n",
    "\n",
    "        # Returning the best parameters for my data\n",
    "        return grid.best_params_"
   ]
  },
  {
   "cell_type": "markdown",
   "id": "6db2f326",
   "metadata": {},
   "source": [
    "Now that I have defined my four functions for the four models I plan on running a grid search over, I am going to run each of these functions to determine the best hyperparameters for each model. Once I have determined the best hyperparameters for each model I will instantiate and fit optimized models and determine their accuracy on predicting y_test from X_test."
   ]
  },
  {
   "cell_type": "markdown",
   "id": "4c08c145",
   "metadata": {},
   "source": [
    "NOTE: Running any of these functions will be a serious time commitment, on my end they ran anywhere from 15 minutes to an hour."
   ]
  },
  {
   "cell_type": "code",
   "execution_count": 30,
   "id": "8d487457",
   "metadata": {},
   "outputs": [
    {
     "data": {
      "text/plain": [
       "{'model__bootstrap': True,\n",
       " 'model__max_features': 'sqrt',\n",
       " 'model__min_samples_split': 2,\n",
       " 'model__n_estimators': 6}"
      ]
     },
     "execution_count": 30,
     "metadata": {},
     "output_type": "execute_result"
    }
   ],
   "source": [
    "# Running a grid search for a Random Forest Regressor and outputting best parameters\n",
    "Grid_Search_CV_RFR(X_train,y_train)"
   ]
  },
  {
   "cell_type": "markdown",
   "id": "98311f46",
   "metadata": {},
   "source": [
    "The Random Forest Regressor model was optimized when the hyperparameters were as listed above."
   ]
  },
  {
   "cell_type": "code",
   "execution_count": 38,
   "id": "1fc636f0",
   "metadata": {},
   "outputs": [
    {
     "data": {
      "text/plain": [
       "0.3626231581941264"
      ]
     },
     "execution_count": 38,
     "metadata": {},
     "output_type": "execute_result"
    }
   ],
   "source": [
    "# Checking the accuracy of the predicted y_test vs the real y_test\n",
    "my_model = RandomForestRegressor(bootstrap='True', max_features='sqrt',min_samples_split=2, n_estimators=6, random_state=13)\n",
    "my_model.fit(X_train,y_train)\n",
    "my_model.score(X_test,y_test)"
   ]
  },
  {
   "cell_type": "markdown",
   "id": "8a2a0962",
   "metadata": {},
   "source": [
    "I initiated and fit a Random Forest Regressor model with the optimized hyperparameters and scored it on my test set to discover that the model has an R squared value of 36.2% meaning that 36.2% of the variance in the data was captured by the model. This is not accurate enough to be content with a model but it is a step in the right direction."
   ]
  },
  {
   "cell_type": "code",
   "execution_count": 35,
   "id": "3074d340",
   "metadata": {},
   "outputs": [
    {
     "data": {
      "text/plain": [
       "{'estimator__learning_rate': 0.1,\n",
       " 'estimator__max_depth': 2,\n",
       " 'estimator__min_samples_leaf': 1,\n",
       " 'estimator__min_samples_split': 2,\n",
       " 'estimator__n_estimators': 50}"
      ]
     },
     "execution_count": 35,
     "metadata": {},
     "output_type": "execute_result"
    }
   ],
   "source": [
    "# Running a grid search for a Gradient Boost Regressor\n",
    "Grid_Search_CV_GBR(X_train, y_train)"
   ]
  },
  {
   "cell_type": "markdown",
   "id": "4ed82a35",
   "metadata": {},
   "source": [
    "The Gradient Boosting Regressor model was optimized when the hyperparameters were as listed above."
   ]
  },
  {
   "cell_type": "code",
   "execution_count": 48,
   "id": "92bb3876",
   "metadata": {},
   "outputs": [
    {
     "data": {
      "text/plain": [
       "0.38228498346948064"
      ]
     },
     "execution_count": 48,
     "metadata": {},
     "output_type": "execute_result"
    }
   ],
   "source": [
    "# Checking the accuracy of the predicted y_test vs the real y_test\n",
    "my_model = MultiOutputRegressor(GradientBoostingRegressor(learning_rate= 0.1, max_depth= 2, min_samples_leaf= 1, min_samples_split= 2, n_estimators= 50))\n",
    "my_model.fit(X_train,y_train)\n",
    "my_model.score(X_test,y_test)"
   ]
  },
  {
   "cell_type": "markdown",
   "id": "09639900",
   "metadata": {},
   "source": [
    "I initiated and fit a Gradient Boosting Regressor model with the optimized hyperparameters and scored it on my test set to discover that the model has an R squared value of 38.2% meaning that 38.2% of the variance in the data was captured by the model. This is an improvement on the Random Forest Model Regressor, and currently the best R squared value of any of my models."
   ]
  },
  {
   "cell_type": "code",
   "execution_count": 40,
   "id": "d835ee59",
   "metadata": {},
   "outputs": [
    {
     "data": {
      "text/plain": [
       "{'estimator__learning_rate': 0.1,\n",
       " 'estimator__max_depth': 2,\n",
       " 'estimator__n_estimators': 90,\n",
       " 'estimator__num_leaves': 2}"
      ]
     },
     "execution_count": 40,
     "metadata": {},
     "output_type": "execute_result"
    }
   ],
   "source": [
    "# Running a grid search for a LightGBM Regressor\n",
    "Grid_Search_CV_LGBMR(X_train, y_train)"
   ]
  },
  {
   "cell_type": "markdown",
   "id": "cafa1a6b",
   "metadata": {},
   "source": [
    "The LightGBM Regressor model was optimized when the hyperparameters were as listed above."
   ]
  },
  {
   "cell_type": "code",
   "execution_count": 44,
   "id": "563b28c1",
   "metadata": {},
   "outputs": [
    {
     "data": {
      "text/plain": [
       "0.11275494494235838"
      ]
     },
     "execution_count": 44,
     "metadata": {},
     "output_type": "execute_result"
    }
   ],
   "source": [
    "# Checking the accuracy of the predicted y_test vs the real y_test\n",
    "my_model = MultiOutputRegressor(LGBMRegressor(learning_rate= 0.1, max_depth= 2, n_estimators=90, num_leaves=2, random_state=13,subsample=.95))\n",
    "my_model.fit(X_train,y_train)\n",
    "my_model.score(X_test,y_test)"
   ]
  },
  {
   "cell_type": "markdown",
   "id": "142324b5",
   "metadata": {},
   "source": [
    "I initiated and fit a LightGBM Regressor model with the optimized hyperparameters and scored it on my test set to discover that the model only has an R squared value of 11.2% meaning that it is significantly underperforming several of the other models I have optimized."
   ]
  },
  {
   "cell_type": "code",
   "execution_count": 37,
   "id": "3d76a887",
   "metadata": {},
   "outputs": [
    {
     "name": "stdout",
     "output_type": "stream",
     "text": [
      "[15:06:54] WARNING: ..\\src\\learner.cc:541: \n",
      "Parameters: { min_samples_leaf, min_samples_split } might not be used.\n",
      "\n",
      "  This may not be accurate due to some parameters are only used in language bindings but\n",
      "  passed down to XGBoost core.  Or some parameters are not used but slip through this\n",
      "  verification. Please open an issue if you find above cases.\n",
      "\n",
      "\n",
      "[15:06:55] WARNING: ..\\src\\learner.cc:541: \n",
      "Parameters: { min_samples_leaf, min_samples_split } might not be used.\n",
      "\n",
      "  This may not be accurate due to some parameters are only used in language bindings but\n",
      "  passed down to XGBoost core.  Or some parameters are not used but slip through this\n",
      "  verification. Please open an issue if you find above cases.\n",
      "\n",
      "\n"
     ]
    },
    {
     "data": {
      "text/plain": [
       "{'estimator__learning_rate': 0.05,\n",
       " 'estimator__max_depth': 2,\n",
       " 'estimator__min_samples_leaf': 1,\n",
       " 'estimator__min_samples_split': 2,\n",
       " 'estimator__n_estimators': 110}"
      ]
     },
     "execution_count": 37,
     "metadata": {},
     "output_type": "execute_result"
    }
   ],
   "source": [
    "# Running a grid search for a XGBoost Regressor\n",
    "Grid_Search_CV_XGBR(X_train, y_train)"
   ]
  },
  {
   "cell_type": "markdown",
   "metadata": {},
   "source": [
    "The XGBoost Regressor model was optimized when the hyperparameters were as listed above."
   ]
  },
  {
   "cell_type": "code",
   "execution_count": 41,
   "id": "c6b1b63e",
   "metadata": {},
   "outputs": [
    {
     "name": "stdout",
     "output_type": "stream",
     "text": [
      "[15:11:51] WARNING: ..\\src\\learner.cc:541: \n",
      "Parameters: { min_samples_leaf, min_samples_split } might not be used.\n",
      "\n",
      "  This may not be accurate due to some parameters are only used in language bindings but\n",
      "  passed down to XGBoost core.  Or some parameters are not used but slip through this\n",
      "  verification. Please open an issue if you find above cases.\n",
      "\n",
      "\n",
      "[15:11:51] WARNING: ..\\src\\learner.cc:541: \n",
      "Parameters: { min_samples_leaf, min_samples_split } might not be used.\n",
      "\n",
      "  This may not be accurate due to some parameters are only used in language bindings but\n",
      "  passed down to XGBoost core.  Or some parameters are not used but slip through this\n",
      "  verification. Please open an issue if you find above cases.\n",
      "\n",
      "\n"
     ]
    },
    {
     "data": {
      "text/plain": [
       "0.3804198676613273"
      ]
     },
     "execution_count": 41,
     "metadata": {},
     "output_type": "execute_result"
    }
   ],
   "source": [
    "# Checking the accuracy of the predicted y_test vs the real y_test\n",
    "my_model = MultiOutputRegressor(XGBRegressor(learning_rate= 0.05,max_depth= 2,min_samples_leaf= 1,min_samples_split= 2,n_estimators= 110,random_state=13))\n",
    "my_model.fit(X_train,y_train)\n",
    "my_model.score(X_test,y_test)"
   ]
  },
  {
   "cell_type": "markdown",
   "id": "f660bd41",
   "metadata": {},
   "source": [
    "I initiated and fit a XGBoost Regressor model with the optimized hyperparameters and scored it on my test set to discover that the model has an R squared value of 38.0% meaning that 38.0% of the variance in the data was captured by the model. This is an improvement on the Random Forest Model Regressor, however it is outperformed slightly by the Gradient Boosting Regressor model."
   ]
  },
  {
   "cell_type": "markdown",
   "id": "2506e509",
   "metadata": {},
   "source": [
    "## Findings"
   ]
  },
  {
   "cell_type": "markdown",
   "id": "f1ddceff",
   "metadata": {},
   "source": [
    "Ultimately after comparing the four models that I optimized, the Gradient Boosting Regressor had the highest R squared value, meaning it accounted for the largest amount of variance in the data. The R squared value for this model was 38.2%, which is not extremely high, but earthquakes are notoriously difficult to predict, especially considering the limited features that I had access to. Since all my features are numeric, this model was optimized to minimize mean squared error between predicted and true values of depth and magnitude. I am now going to do a bit of analyzing on this final model specifically, I need to check the residual values to ensure that my model does not suffer from heteroskedasticity."
   ]
  },
  {
   "cell_type": "code",
   "execution_count": 55,
   "id": "6081091a",
   "metadata": {},
   "outputs": [
    {
     "data": {
      "text/plain": [
       "MultiOutputRegressor(estimator=GradientBoostingRegressor(max_depth=2,\n",
       "                                                         n_estimators=50))"
      ]
     },
     "execution_count": 55,
     "metadata": {},
     "output_type": "execute_result"
    }
   ],
   "source": [
    "# Checking the accuracy of the predicted y_test vs the real y_test\n",
    "my_model = MultiOutputRegressor(GradientBoostingRegressor(learning_rate= 0.1, max_depth= 2, min_samples_leaf= 1, min_samples_split= 2, n_estimators= 50))\n",
    "my_model.fit(X_train,y_train)"
   ]
  },
  {
   "cell_type": "code",
   "execution_count": 103,
   "id": "3df3b3b6",
   "metadata": {},
   "outputs": [],
   "source": [
    "# Calculating the residual values for depth and magnitude\n",
    "y_pred=my_model.predict(X_test)\n",
    "residuals = y_test-y_pred"
   ]
  },
  {
   "cell_type": "code",
   "execution_count": 102,
   "id": "7d222ca9",
   "metadata": {},
   "outputs": [
    {
     "data": {
      "image/png": "[encoded data removed]",
      "text/plain": [
       "<Figure size 936x936 with 2 Axes>"
      ]
     },
     "metadata": {
      "needs_background": "light"
     },
     "output_type": "display_data"
    }
   ],
   "source": [
    "# creating our subplot\n",
    "plt.subplots(2, 1, figsize=(13, 13))\n",
    "\n",
    "\n",
    "# Visualizing distributions of residuals of predicted Depth on subplot 1\n",
    "plt.subplot(2, 1, 1)\n",
    "plt.scatter(y_pred[:,0],residuals.iloc[:,0])\n",
    "plt.xlabel('Predicted Depth')\n",
    "plt.ylabel('Residuals')\n",
    "plt.hlines(0,0,600,color='r',label='Actual Depth')\n",
    "plt.xlim((0,600))\n",
    "plt.title('Residual Graph of Predicted Depth')\n",
    "plt.legend()\n",
    "\n",
    "# Visualizing distributions of residuals of predicted Magnitude on subplot 2\n",
    "plt.subplot(2, 1, 2)\n",
    "plt.scatter(y_pred[:,1],residuals.iloc[:,1])\n",
    "plt.xlabel('Predicted Magnitude')\n",
    "plt.ylabel('Residuals')\n",
    "plt.hlines(0,7,8,color='r',label='Actual Magnitude')\n",
    "plt.xlim((7.05,7.55))\n",
    "plt.title('Residual Graph of Predicted Magnitude')\n",
    "plt.legend()\n",
    "\n",
    "plt.show()"
   ]
  },
  {
   "cell_type": "markdown",
   "id": "9627c768",
   "metadata": {},
   "source": [
    "It is apparent from the above residual plots that there is no real correlation between the residuals and the predicted values. This indicates that my predictive model is homoskedastic, meaning that there is a constant error margin at all predicted values. This is a good sign for the accuracy of our predictions, especially if I were to predict on values outside the range of the test data. One worrisome indication from this graph above is that the predicted depths appear to be somewhat bimodal, whereas the original dataset's depth feature was heavily concentrated in the lower numbers."
   ]
  },
  {
   "cell_type": "markdown",
   "id": "58592219",
   "metadata": {},
   "source": [
    "## Conclusion"
   ]
  },
  {
   "cell_type": "markdown",
   "id": "6467ff9f",
   "metadata": {},
   "source": [
    "In this notebook I began by attempting to create a time series to predict the length between and the lat/long of serious earthquakes. Unfortunately time did not allow me to  complete all the features that I hoped to create, and restructuring my data in a manner that allowed for a multivariate time series analysis would have significantly reduced the amount of time I had available to the rest of my project. Next, I trained and tested several models to predict earthquake depth and magnitude given date-time latitude and longitude. The models used were Linear Regression, Random Forest Regression, Gradient Boosting Regression, LightGBM Regression, and XGBoost Regression. These models were optimized through use of grid search and they were scored by the R squared value when comparing predicted y_test vs true y_test. Ultimately I found that of the optimized models, the Gradient Boosting Regression model slightly outscored the Random Forest Regressor and the XGBoost Regressor with an R squared value of 38.2%. I then checked the model for heteroskedasticity and found that there was no correlation between the residuals and predicted values."
   ]
  },
  {
   "cell_type": "markdown",
   "id": "dacb862b",
   "metadata": {},
   "source": [
    "With this in mind, I now will be taking my findings from this notebook to my final report where I will be presenting the business use-case for this regression and how it can help lessen the burden caused by natural seismic events."
   ]
  },
  {
   "cell_type": "markdown",
   "id": "f755737e",
   "metadata": {},
   "source": [
    "## Next Steps"
   ]
  },
  {
   "cell_type": "markdown",
   "id": "75f220b4",
   "metadata": {},
   "source": [
    "Going forward from here there are many things that I would try that time did not allow me to include in this project. One of the main things that I would include is a seismic activity prior to earthquake feature. Most of the state of the art current earthquake prediction models, such as the one used by the US Geological Survey, include seismic activity prior to large earthquakes in order to determine the presence of 'foreshocks', or smaller earthquakes that precede the 'mainshock' or serious earthquake. Additionally, going forward I would restructure my data such that a time series analysis would be possible in order to predict a latitudinal and longitudinal area that is overdue a serious earthquake. Another implementation that I would have liked to completed would be to have segmented the entire globe into smaller pieces similarly to the way I segmented off South America. This would have allowed me to train a model in each of these areas to determine if there are any intrinsically different features or feature relationships in other parts of the world."
   ]
  }
 ],
 "metadata": {
  "interpreter": {
   "hash": "bbaff3bad43e72ef86a08724e2a04c1dc7b916dad0faa2935f126c230f07c1b0"
  },
  "kernelspec": {
   "display_name": "Python 3.8.8 64-bit ('base': conda)",
   "language": "python",
   "name": "python3"
  },
  "language_info": {
   "codemirror_mode": {
    "name": "ipython",
    "version": 3
   },
   "file_extension": ".py",
   "mimetype": "text/x-python",
   "name": "python",
   "nbconvert_exporter": "python",
   "pygments_lexer": "ipython3",
   "version": "3.8.8"
  }
 },
 "nbformat": 4,
 "nbformat_minor": 5
}
